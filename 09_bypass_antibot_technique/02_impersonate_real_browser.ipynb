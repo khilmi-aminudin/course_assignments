{
 "cells": [
  {
   "cell_type": "markdown",
   "metadata": {},
   "source": [
    "### 🔐 **TLS/JA3 Fingerprinting: How It Works?**\n",
    "**JA3 Fingerprinting** is a technique used to identify clients based on how they establish a **TLS (Transport Layer Security)** handshake."
   ]
  },
  {
   "cell_type": "markdown",
   "metadata": {},
   "source": [
    "### What is TLS?\n",
    "TLS is the encryption protocol used for securing data transfer between a client (like a web browser) and a server (like a website).\n",
    "\n",
    "### How JA3 Works:\n",
    "1. **Client Hello Message:** When a browser connects to a website using HTTPS, it sends a \"Client Hello\" message.\n",
    "2. **TLS Fingerprint:** This message includes:\n",
    "   - Supported TLS versions\n",
    "   - Cipher suites (encryption algorithms)\n",
    "   - Compression methods\n",
    "   - Elliptic curves and extensions\n",
    "3. **JA3 Hash Generation:** These parameters are hashed into a unique string called a **JA3 fingerprint**.\n",
    "4. **Recognition:** Servers can compare the JA3 hash against known fingerprints to identify the client type (like Chrome, Firefox, Python scripts, etc.)."
   ]
  },
  {
   "cell_type": "markdown",
   "metadata": {},
   "source": [
    "### 🌐 **HTTP/2 Fingerprinting:**\n",
    "HTTP/2 is the modern version of the HTTP protocol used for faster web page loading. HTTP/2 fingerprinting works by identifying how clients implement HTTP/2 features."
   ]
  },
  {
   "cell_type": "code",
   "execution_count": 10,
   "metadata": {},
   "outputs": [
    {
     "name": "stdout",
     "output_type": "stream",
     "text": [
      "=== Using requests ===\n",
      "Error with requests: HTTPSConnectionPool(host='tls.browserleaks.com', port=443): Max retries exceeded with url: /json (Caused by SSLError(SSLEOFError(8, '[SSL: UNEXPECTED_EOF_WHILE_READING] EOF occurred in violation of protocol (_ssl.c:1000)')))\n",
      "\n",
      "=== Using curl_cffi.requests ===\n",
      "Error with curl_cffi: Failed to perform, curl: (35) Recv failure: Connection reset by peer. See https://curl.se/libcurl/c/libcurl-errors.html first for more details.\n"
     ]
    }
   ],
   "source": [
    "\"\"\" \n",
    "Objective: Checking JA3 fingerprint\n",
    "\"\"\"\n",
    "# TODO: Import requests\n",
    "# TODO: Import requests from curl_cffi and give it alias to differentiate from requests\n",
    "# TODO: Try to send request to https://tls.browserleaks.com/json using both library\n",
    "# TODO: Print the responses and compare them\n",
    "# %pip install requests curl_cffi\n",
    "import requests  # Import requests biasa\n",
    "from curl_cffi import requests as curl_requests  # Import curl_cffi.requests dan beri alias\n",
    "\n",
    "# URL untuk cek JA3 fingerprint\n",
    "url = \"https://tls.browserleaks.com/json\"\n",
    "\n",
    "print(\"=== Using requests ===\")\n",
    "try:\n",
    "    response1 = requests.get(url)\n",
    "    print(response1.json())\n",
    "except Exception as e:\n",
    "    print(f\"Error with requests: {e}\")\n",
    "\n",
    "print(\"\\n=== Using curl_cffi.requests ===\")\n",
    "try:\n",
    "    response2 = curl_requests.get(url, impersonate=\"chrome101\")  # Meniru Chrome\n",
    "    print(response2.json())\n",
    "except Exception as e:\n",
    "    print(f\"Error with curl_cffi: {e}\")\n"
   ]
  },
  {
   "cell_type": "code",
   "execution_count": 16,
   "metadata": {},
   "outputs": [
    {
     "name": "stdout",
     "output_type": "stream",
     "text": [
      "Request WITH impersonation (Chrome 120):\n",
      "\n"
     ]
    },
    {
     "ename": "SSLError",
     "evalue": "Failed to perform, curl: (35) Recv failure: Connection reset by peer. See https://curl.se/libcurl/c/libcurl-errors.html first for more details.",
     "output_type": "error",
     "traceback": [
      "\u001b[31m---------------------------------------------------------------------------\u001b[39m",
      "\u001b[31mCurlError\u001b[39m                                 Traceback (most recent call last)",
      "\u001b[36mFile \u001b[39m\u001b[32m~/rwid/course_assignments/venv/lib/python3.12/site-packages/curl_cffi/requests/session.py:597\u001b[39m, in \u001b[36mSession.request\u001b[39m\u001b[34m(self, method, url, params, data, json, headers, cookies, files, auth, timeout, allow_redirects, max_redirects, proxies, proxy, proxy_auth, verify, referer, accept_encoding, content_callback, impersonate, ja3, akamai, extra_fp, default_headers, default_encoding, quote, http_version, interface, cert, stream, max_recv_speed, multipart)\u001b[39m\n\u001b[32m    596\u001b[39m     \u001b[38;5;28;01melse\u001b[39;00m:\n\u001b[32m--> \u001b[39m\u001b[32m597\u001b[39m         \u001b[43mc\u001b[49m\u001b[43m.\u001b[49m\u001b[43mperform\u001b[49m\u001b[43m(\u001b[49m\u001b[43m)\u001b[49m\n\u001b[32m    598\u001b[39m \u001b[38;5;28;01mexcept\u001b[39;00m CurlError \u001b[38;5;28;01mas\u001b[39;00m e:\n",
      "\u001b[36mFile \u001b[39m\u001b[32m~/rwid/course_assignments/venv/lib/python3.12/site-packages/curl_cffi/curl.py:319\u001b[39m, in \u001b[36mCurl.perform\u001b[39m\u001b[34m(self, clear_headers)\u001b[39m\n\u001b[32m    318\u001b[39m \u001b[38;5;28;01mtry\u001b[39;00m:\n\u001b[32m--> \u001b[39m\u001b[32m319\u001b[39m     \u001b[38;5;28;43mself\u001b[39;49m\u001b[43m.\u001b[49m\u001b[43m_check_error\u001b[49m\u001b[43m(\u001b[49m\u001b[43mret\u001b[49m\u001b[43m,\u001b[49m\u001b[43m \u001b[49m\u001b[33;43m\"\u001b[39;49m\u001b[33;43mperform\u001b[39;49m\u001b[33;43m\"\u001b[39;49m\u001b[43m)\u001b[49m\n\u001b[32m    320\u001b[39m \u001b[38;5;28;01mfinally\u001b[39;00m:\n\u001b[32m    321\u001b[39m     \u001b[38;5;66;03m# cleaning\u001b[39;00m\n",
      "\u001b[36mFile \u001b[39m\u001b[32m~/rwid/course_assignments/venv/lib/python3.12/site-packages/curl_cffi/curl.py:150\u001b[39m, in \u001b[36mCurl._check_error\u001b[39m\u001b[34m(self, errcode, *args)\u001b[39m\n\u001b[32m    149\u001b[39m \u001b[38;5;28;01mif\u001b[39;00m error \u001b[38;5;129;01mis\u001b[39;00m \u001b[38;5;129;01mnot\u001b[39;00m \u001b[38;5;28;01mNone\u001b[39;00m:\n\u001b[32m--> \u001b[39m\u001b[32m150\u001b[39m     \u001b[38;5;28;01mraise\u001b[39;00m error\n",
      "\u001b[31mCurlError\u001b[39m: Failed to perform, curl: (35) Recv failure: Connection reset by peer. See https://curl.se/libcurl/c/libcurl-errors.html first for more details.",
      "\nThe above exception was the direct cause of the following exception:\n",
      "\u001b[31mSSLError\u001b[39m                                  Traceback (most recent call last)",
      "\u001b[36mCell\u001b[39m\u001b[36m \u001b[39m\u001b[32mIn[16]\u001b[39m\u001b[32m, line 14\u001b[39m\n\u001b[32m     12\u001b[39m \u001b[38;5;66;03m# Request WITH impersonation (Chrome 120)\u001b[39;00m\n\u001b[32m     13\u001b[39m \u001b[38;5;28mprint\u001b[39m(\u001b[33m\"\u001b[39m\u001b[33mRequest WITH impersonation (Chrome 120):\u001b[39m\u001b[38;5;130;01m\\n\u001b[39;00m\u001b[33m\"\u001b[39m)\n\u001b[32m---> \u001b[39m\u001b[32m14\u001b[39m resp_impersonated = \u001b[43mrequests\u001b[49m\u001b[43m.\u001b[49m\u001b[43mget\u001b[49m\u001b[43m(\u001b[49m\u001b[43murl\u001b[49m\u001b[43m,\u001b[49m\u001b[43m \u001b[49m\u001b[43mimpersonate\u001b[49m\u001b[43m=\u001b[49m\u001b[33;43m\"\u001b[39;49m\u001b[33;43mchrome120\u001b[39;49m\u001b[33;43m\"\u001b[39;49m\u001b[43m)\u001b[49m\n\u001b[32m     15\u001b[39m \u001b[38;5;28mprint\u001b[39m(json.dumps(resp_impersonated.json(), indent=\u001b[32m2\u001b[39m))\n\u001b[32m     17\u001b[39m \u001b[38;5;28mprint\u001b[39m(\u001b[33m\"\u001b[39m\u001b[38;5;130;01m\\n\u001b[39;00m\u001b[33m\"\u001b[39m + \u001b[33m\"\u001b[39m\u001b[33m=\u001b[39m\u001b[33m\"\u001b[39m*\u001b[32m80\u001b[39m + \u001b[33m\"\u001b[39m\u001b[38;5;130;01m\\n\u001b[39;00m\u001b[33m\"\u001b[39m)\n",
      "\u001b[36mFile \u001b[39m\u001b[32m~/rwid/course_assignments/venv/lib/python3.12/site-packages/curl_cffi/requests/__init__.py:142\u001b[39m, in \u001b[36mget\u001b[39m\u001b[34m(url, **kwargs)\u001b[39m\n\u001b[32m    141\u001b[39m \u001b[38;5;28;01mdef\u001b[39;00m\u001b[38;5;250m \u001b[39m\u001b[34mget\u001b[39m(url: \u001b[38;5;28mstr\u001b[39m, **kwargs: Unpack[SessionRequestParams]):\n\u001b[32m--> \u001b[39m\u001b[32m142\u001b[39m     \u001b[38;5;28;01mreturn\u001b[39;00m \u001b[43mrequest\u001b[49m\u001b[43m(\u001b[49m\u001b[43mmethod\u001b[49m\u001b[43m=\u001b[49m\u001b[33;43m\"\u001b[39;49m\u001b[33;43mGET\u001b[39;49m\u001b[33;43m\"\u001b[39;49m\u001b[43m,\u001b[49m\u001b[43m \u001b[49m\u001b[43murl\u001b[49m\u001b[43m=\u001b[49m\u001b[43murl\u001b[49m\u001b[43m,\u001b[49m\u001b[43m \u001b[49m\u001b[43m*\u001b[49m\u001b[43m*\u001b[49m\u001b[43mkwargs\u001b[49m\u001b[43m)\u001b[49m\n",
      "\u001b[36mFile \u001b[39m\u001b[32m~/rwid/course_assignments/venv/lib/python3.12/site-packages/curl_cffi/requests/__init__.py:134\u001b[39m, in \u001b[36mrequest\u001b[39m\u001b[34m(method, url, thread, curl_options, debug, **kwargs)\u001b[39m\n\u001b[32m    132\u001b[39m debug = \u001b[38;5;28;01mFalse\u001b[39;00m \u001b[38;5;28;01mif\u001b[39;00m debug \u001b[38;5;129;01mis\u001b[39;00m \u001b[38;5;28;01mNone\u001b[39;00m \u001b[38;5;28;01melse\u001b[39;00m debug\n\u001b[32m    133\u001b[39m \u001b[38;5;28;01mwith\u001b[39;00m Session(thread=thread, curl_options=curl_options, debug=debug) \u001b[38;5;28;01mas\u001b[39;00m s:\n\u001b[32m--> \u001b[39m\u001b[32m134\u001b[39m     \u001b[38;5;28;01mreturn\u001b[39;00m \u001b[43ms\u001b[49m\u001b[43m.\u001b[49m\u001b[43mrequest\u001b[49m\u001b[43m(\u001b[49m\u001b[43mmethod\u001b[49m\u001b[43m=\u001b[49m\u001b[43mmethod\u001b[49m\u001b[43m,\u001b[49m\u001b[43m \u001b[49m\u001b[43murl\u001b[49m\u001b[43m=\u001b[49m\u001b[43murl\u001b[49m\u001b[43m,\u001b[49m\u001b[43m \u001b[49m\u001b[43m*\u001b[49m\u001b[43m*\u001b[49m\u001b[43mkwargs\u001b[49m\u001b[43m)\u001b[49m\n",
      "\u001b[36mFile \u001b[39m\u001b[32m~/rwid/course_assignments/venv/lib/python3.12/site-packages/curl_cffi/requests/session.py:602\u001b[39m, in \u001b[36mSession.request\u001b[39m\u001b[34m(self, method, url, params, data, json, headers, cookies, files, auth, timeout, allow_redirects, max_redirects, proxies, proxy, proxy_auth, verify, referer, accept_encoding, content_callback, impersonate, ja3, akamai, extra_fp, default_headers, default_encoding, quote, http_version, interface, cert, stream, max_recv_speed, multipart)\u001b[39m\n\u001b[32m    600\u001b[39m     rsp.request = req\n\u001b[32m    601\u001b[39m     error = code2error(e.code, \u001b[38;5;28mstr\u001b[39m(e))\n\u001b[32m--> \u001b[39m\u001b[32m602\u001b[39m     \u001b[38;5;28;01mraise\u001b[39;00m error(\u001b[38;5;28mstr\u001b[39m(e), e.code, rsp) \u001b[38;5;28;01mfrom\u001b[39;00m\u001b[38;5;250m \u001b[39m\u001b[34;01me\u001b[39;00m\n\u001b[32m    603\u001b[39m \u001b[38;5;28;01melse\u001b[39;00m:\n\u001b[32m    604\u001b[39m     rsp = \u001b[38;5;28mself\u001b[39m._parse_response(c, buffer, header_buffer, default_encoding)\n",
      "\u001b[31mSSLError\u001b[39m: Failed to perform, curl: (35) Recv failure: Connection reset by peer. See https://curl.se/libcurl/c/libcurl-errors.html first for more details."
     ]
    }
   ],
   "source": [
    "\"\"\" \n",
    "Objective: Impersonating real browser\n",
    "\"\"\"\n",
    "# TODO: Use curl_cffi to send request to https://tls.browserleaks.com/json with and without impersonation\n",
    "# TODO: Compare the responses and share your thoughts\n",
    "\n",
    "from curl_cffi import requests\n",
    "import json\n",
    "\n",
    "url = \"https://tls.browserleaks.com/json\"\n",
    "\n",
    "# Request WITH impersonation (Chrome 120)\n",
    "print(\"Request WITH impersonation (Chrome 120):\\n\")\n",
    "resp_impersonated = requests.get(url, impersonate=\"chrome120\")\n",
    "print(json.dumps(resp_impersonated.json(), indent=2))\n",
    "\n",
    "print(\"\\n\" + \"=\"*80 + \"\\n\")\n",
    "\n",
    "# Request WITHOUT impersonation\n",
    "print(\"Request WITHOUT impersonation:\\n\")\n",
    "resp_plain = requests.get(url)\n",
    "print(json.dumps(resp_plain.json(), indent=2))\n"
   ]
  },
  {
   "cell_type": "code",
   "execution_count": 18,
   "metadata": {},
   "outputs": [
    {
     "name": "stdout",
     "output_type": "stream",
     "text": [
      "Response from Adidas API:\n",
      "application/json; charset=utf-8\n",
      "��\u0003�����N+rS\u001a)\u0001$XS�m�5�r��qp@�RDD\u0002\n",
      "\u0000��[�9S���6���k�PO�qi\u001cBbV��9\u001dBb�}��=g\u0006��>k2�\u0011�?��IS�d�F���H�?e�\u0006�D#4L�R��w/ `\u0002!t��^{�\u0006FC\u000b�V��\f\u0012HF\u0014\u0010�\u0010� �\u0000$�]����Q�c�\u0016�>�ֳ\n",
      "��������/� \u0001+���~��\u0017r^�\u0006r��yX�\u0010�\u0014H�Bh߀��\u001b%\n"
     ]
    }
   ],
   "source": [
    "\"\"\" \n",
    "Objective: Web scraping Adidas\n",
    "\"\"\"\n",
    "# TODO: Scrape https://www.adidas.de/api/product-list/IE4042 and analyze the API result\n",
    "# TODO: Try using requests library, if you failed, try bypass it by using custom headers\n",
    "# TODO: If you succeeded, print the response and share your methods\n",
    "\n",
    "import requests\n",
    "from fake_useragent import UserAgent\n",
    "\n",
    "# Create a UserAgent object\n",
    "ua = UserAgent()\n",
    "# Generate a random user agent\n",
    "user_agent = ua.random\n",
    "\n",
    "# Create a headers dictionary with the random user agent\n",
    "headers = {\n",
    "    \"User-Agent\": user_agent,\n",
    "    \"Accept\": \"application/json\",\n",
    "    \"Accept-Language\": \"en-US,en;q=0.9\",\n",
    "    \"Accept-Encoding\": \"gzip, deflate, br\",\n",
    "    \"Connection\": \"keep-alive\",\n",
    "    \"DNT\": \"1\",\n",
    "    \"Upgrade-Insecure-Requests\": \"1\",\n",
    "}\n",
    "\n",
    "# Define the URL to scrape\n",
    "\n",
    "url = \"https://www.adidas.de/api/product-list/IE4042\"\n",
    "\n",
    "# Define the headers to impersonate a real browser\n",
    "# Send a GET request using requests with custom headers\n",
    "# response = requests.get(url, timeout=10)\n",
    "response = requests.get(url, headers=headers)\n",
    "# Check if the request was successful\n",
    "if response.status_code == 200:\n",
    "    # Print the response content\n",
    "    print(\"Response from Adidas API:\")\n",
    "    print(response.headers.get('Content-Type'))\n",
    "    print(response.text[:200])\n",
    "\n",
    "else:\n",
    "    print(f\"Failed to retrieve data. Status code: {response.status_code}\")\n",
    "    print(\"Response content:\")\n",
    "    print(response.text)\n",
    "\n"
   ]
  },
  {
   "cell_type": "code",
   "execution_count": null,
   "metadata": {},
   "outputs": [],
   "source": [
    "\"\"\" \n",
    "Objective: Web scraping Adidas\n",
    "\"\"\"\n",
    "# TODO: Visit https://www.adidas.com/us/\n",
    "# TODO: Try to scrape one product\n",
    "# TODO: Share your web scraping methods\n",
    "# TODO: Push the github link here for grading\n",
    "\"\"\"\n",
    "i use selenium to scrape the product from adidas website\n",
    "https://www.adidas.com/us/ i was try to scrape the product using requests but the response is empty\n",
    "so i use selenium to scrape the product from the website\n",
    "the response is empty because the website is using javascript to load the product \n",
    "so i use selenium to scrape the product from the website\n",
    "\n",
    "github repo\n",
    "https://github.com/khilmi-aminudin/course_assignment_project/tree/adidas_scrape\n",
    "\"\"\""
   ]
  },
  {
   "cell_type": "code",
   "execution_count": null,
   "metadata": {},
   "outputs": [
    {
     "name": "stdout",
     "output_type": "stream",
     "text": [
      "Failed to retrieve data. Status code: 403\n",
      "Response content:\n",
      "���\u0000 ���z��Wq�w�\u0016C\u0017�׳�T�\u0004H\u0002��8�������\u001e�`����%6ƾ���5:����\u001f�\\�bA��\u0002�j\u001a *�V���|�\u0001V�F����|j�ɫf~�%��n���\u000b�ɿ�b��_�<N��Dy�\u001f\u0000\u0000T�H����\"����\u0014��0&��t`h�ͻFJ�7\u0017g��Y�A�|�駩�\u0016����v]=�\u0014���\n",
      "\\7�A!�T3�B���f�Ȏ�\u0001'�BW��e���j\u0019oJ��j?O\u000b]5;��#C��j;z�l5k,�(e�i\f�J\fَ\u000b���O��g���e�Ub��V�\u001c(\u0011\t<\u00180t\u0013<�Ѱ��VJ�YR�TЕaɚjG�ʪ��r�R��v�6�AQ�]�M݇��K2\u0015QpҒ9���\"�?�n�NVЎ�\u001fT��ɉ��n8qMW\u0016�(�nko�\u000e\u0012�C5�\u0004���=�:پ�:��!�������\u000f�@pɿ��=3��\u0001��h�v$�m���!iN�<u_M�YU�'\u000e\u000eIc�\u001f8�I:}B\u00006$͟�Y�\u0006��/�Oy����\u0002����7�\u000f����D����\u0007�a̅ǳ\u000b��\u0002&` �e�#�\u0001\u0018'\u0015P�\f\f��h���A�d\u0018����nJk��&Ȓ�y����)�d��?�%�{k�0\u0018\u0013\u001c�0D\n",
      "�;�I�t�6)���\u000f��M))Hnꤔ.$��\u0004{SwRJ\u0015�-pV�\n",
      "U,q뫘΀�ng��R�R��m`g�RV�f��ʺxd\u0014\u000ei\u0001'\u0004�\n",
      "�o������ˑ�y�\u0016}�{���'f\u0013u�\u0014\u0014���\"h���\u001cv��90[�<Fy�$�q0T?~\u0007\u000f\u0010*?�3�0\u001c�E�dL��t\n",
      "�\u0012:]\u0004kS\u0000�F.��9���a�3tA�\u000bIb$x�\u0000\u0018�\u0000�-Ea\u0011���ul�<j0��\u0000��G10r��W��e\u000e�\u0015i�B����( ��pj�-���\u001f��PY��<����|?J�(����Fr��&roj1�\u0014\u0003� 2:\u001a\u0004#פ��rq0�@�2\u0001Q׼}D��'����kϴD���h*���#2����N\"1\u0014�%�%\t.��G$~��\u0005���c�r�0�\u0004y�\n",
      ">��N��v����V\u0006\u0003v0��\u000f[x��yy�\u0007�P\u000b�\u0000ͦ��R��&I��\"e��'��{�>`��\u0000[b��:&�\u001a�N�,o�^�\"\u0013����<a�A�ޣ��#\n",
      "�2�+!DU�\u001a���-ٗ>�^��MK�f�WC�bs�\u000bN\u001cO��Te\n",
      "�k�\u0014\u0018{;\u0004\u0005\f\u000b�=Y\f��p�8�u�'9\u0006��Y\u0010l���UR�W-��|}&.�^�@ \u000e�>�����\f2�p��/\n",
      "�������ŷ��f\u0019�D�\\��\u000f�֭!x��7Ͱ�cw��\u001a�H\u0002�uW=�1\n",
      "�\u0018:\u000b����.��m\u0005��|d�47Ѕr���\u0012PIj�\u0018�P�[��漲\f�\u001eH\u001e �~(d\f�\f�߯���\f\u0019S|�F�3��OBM&\u0011\u0018�m?C�w��D�Q���S�B��;�O��\u001b[\u0013L��[=��91�\u001e\u001e_h�fr���kSq���^\n",
      "0��\u0010�ɜ\u0015���r\u001b��Y�5��\u0014\u0011p�<\u000er�\u0018��4��_���t1~h#\u0002U�*���_�\u0000+Yġ��f\u0000�\u001d�������f\u001fd3ʣ\u0018�7���I!2�\u0007\u0013\u000f\u001dnL�q�{\u001b�X\u0000K\u0000\u000f�6#�J�\u0015�=�����x�`��{ 0ĭk�x\u001e��.�^��u�+~�X��ʧI�r\u0005��\u000eg�\u0006�E�1�2T�@�\u0001Є!\u001eq\u00077�2��������9�-��\u001cft1�>�y�S|�c�\u0004m\u001ȃ�)�ց\u0004FGy��%��HL�����Z�\u001b�\"ZK���/m�J\fz\tRJ]d\u0006�;\u0016\u0003�BCĤ�4�� � \u0015�\u0000\u0003]>ә0OxF$��\u0016�;㬝x%S���<j=I��Ĥ��\u0010�7��;�i���8q�_ͽ�5u�#���\"\u0000g\u0002��H����C�yzӐ�\u0019�<�,j��CX�\u001cz1\u0016�gIT_�tvr�F���3tA�\u000bIbd��k\"kyM6Xة�����nX��h�z\u0012�w��9�_6���x�r�I�]�\u0017\u000f%D' ������*E�:���\\�\u000f�{X��865�J\u0000�0\u001d\t�̋�d�\u001aP7��-�M��q�0b�(�4�1\u0019�\u0006v�x&�\u0002~\u0013F\u0016ګbK7@7p����v��Xn��Qd���N��\u0016/>\u001ed{p\u0012�\u0012�\u000b��Z�6x�oq�V�Q�K�(�\"$H��ތ+�$��(�\u0013m\u0016��w���\n",
      "@�\u001f�T�/\u0019\u0006a�аl-I?eu�z�]���Y�*���Wo\u0006)����uJ`u\u0010�\u0017�O�C\u001dER����>T��[r��w\u000e�E\u001d&�\u001e�\u0012x�߱��C�t5�\u001e��w��\u0004�����@Xm��\\�쓖��\u0013�\u0000��7\u0004�z\\\u0002=�����\n",
      "��\n",
      "�1A���f\u0001�2\u0017}Q<��Q�\u0010\"8�\u0006\u0007�_���\u0007�D�s6 �(n6Ҙ\t�n�kԂQ_]�1\u0007�����9�:G�K\u0007:qk��T���@�*Ak���wgfˡ\u001e��`\u0004=E\u0012E+��F�\u0013G�\"�5E�b?��@�I\u0003�-A��fIf��e�iQ+�kE�5\u001c��n�r}�w�F^�u\u0013]��\u0005�\u0010�,\u0005/�c�ܙ_s�}\u000e�\u0014A\u000eݛU�\u0014G&x$劏���BO��JI>��:,�\u0005J�H�s�\u0012\u001c.^*+��3yF\fn�\u0002K1�1C�61.\u000b�\u000e�U:@�m��\u001e��$T\u001a��\"Asކ��xM0��ȁr\u0000�\u000b�Y&)����,�bT�\u001eX�驉��YH�.XVsZ�<�������:8(��K�dt��\u0002fټϬ#��N��\u000b(�I�\\c\u0000����Q%/{j��x�ݲ���{\u001a\\U�I�K����sv�^\u0007�\u0015��ս�k %%D�p/��pƥ�c],k\u0012ݹ3w�\u0013�\u000eD1�f�A}�^k�5�F�L��\u0013$�v�\f+,2\u0013y1��Z\u0005�W�Qx��|��\u0013̡���\u000b�+���:\u0006���S���g�lH�W�`M��-\u001dk\u0015�z��������Cn��@Ő����uR���Ɇ\u000b�\u000b���JdX�S\u0007*��f3hj$��$^|�\n",
      "\u0002u����#�_b��\u0011\u000b�v\u0000�����R�\u0002��\u0005�\u0013pf�\u0011����y�޴Hr������c`a�\u001d5-�\u001dJ�\u0018\u0012�e�\u000f�Uv\u000b\u0002&U��~٢��!�\u0010�F���i\u0013\\�XT.�v\f7��I��;g_��o��Ļ\u0011f@���|\u0007*=��J ���,�gT<\u0001\u001f�D2�0-Ô�W��\u0015\u001e,�U4�\u0003ھ��r�|�#o>�Ǟ[���g �zA�&,�\u0003�\u0002&�nlg�+��R�꼊\u0002X���\u0004;����2m) 鑄 �O=�f��\u0004?�i�5���\u0005~���KF�d>]\u001f�N2�\n",
      "�D��S�חC�\u0014�\u001e�m\u001f�4R�~!�ˎ��\u0015���9�\u0019z���\n",
      "�A��]��\u0005��~�9.���\\\u0004P�mD�:E}!\u0006qL�\u000b�����\f��0u΅��Q\u001c�߂*+C\u0004�R���6�@J�q\u001b��'d��4�$.��̜\t�ǟ�<�}�PF�Y\u001d��\u0018Z>�X��eQ��$M�b\u0018%\u00192�_!�e<k���\u0016~\u0013Fn��\u001a�ܻC����Z�\u0014�f6}�q#���Y`��4\t]X�v�x�o��\"Zе8^W�6\u0017\u000e�\u001d�Q�v\u0013t���`5I=+V�*\u00039���Ϙ���\u0011�\u001d�|ꚃ\u0014�FV�Nfɠ��\u000fJy��\u0004�)���)I�\t��$�\u0012�N����z\u001f����\u001f_Q�\u0001�\u0010��O�?��=GY�3ʃ�N�,9�u0������?�!ʓq\u001a�)�\u0019��\u0007Y�s��\u0019���Db(�A���W\u0001ˣ\u0003����`�Oߧ�kҜm����������ߐ��M_��������t�N�������\t�ۜ\f�Q0c\u000f��ƺ����\u000f��9�t�|�\u0018_`�\u000f�s���\u000fo��*��_�\u0017\f�5�����*\u001cx�#�\u0014Lɏ��%\u0018N]v7���\u0007S�\u0006Mr��d\u0018U����_8C�j��8�¥/�4L�\u001ct ��\u0005S-��r=;���|u���ן?mu`��\u0003��$���/��*�V����ן�~T/�~\u0016�\u0006�̧��\u0005\n",
      "Response from BookOutlet API:\n",
      "text/html; charset=utf-8\n",
      "<!DOCTYPE html><html lang=\"en\"><head><meta charSet=\"utf-8\"/><meta name=\"google-site-verification\" content=\"hwMYfD5FG7FRfi2tYTH3pjKyGldOafjhBgIYOZAgpr8\"/><meta name=\"viewport\" content=\"minimum-scale=1,\n"
     ]
    }
   ],
   "source": [
    "\"\"\" \n",
    "Objective: Understanding JavaScript Challenge vs JavaScript Rendering\n",
    "\"\"\"\n",
    "# TODO: Send a request to https://bookoutlet.com\n",
    "# TODO: Try to use default requests to send the request using custom headers\n",
    "# TODO: Try to use curl_cffi by using impersonation\n",
    "# TODO: Which one works? If not, try to use requests-html\n",
    "# TODO: Whether its works or not, try to analyze the request method and share your thoughts\n",
    "\n",
    "import requests\n",
    "from curl_cffi import requests as curl_requests\n",
    "from fake_useragent import UserAgent\n",
    "\n",
    "# Create a UserAgent object\n",
    "ua = UserAgent()\n",
    "# Generate a random user agent\n",
    "user_agent = ua.random\n",
    "# Create a headers dictionary with the random user agent\n",
    "headers = {\n",
    "    \"User-Agent\": user_agent,\n",
    "    \"Accept\": \"application/json\",\n",
    "    \"Accept-Language\": \"en-US,en;q=0.9\",\n",
    "    \"Accept-Encoding\": \"gzip, deflate, br\",\n",
    "    \"Connection\": \"keep-alive\",\n",
    "    \"DNT\": \"1\",\n",
    "    \"Upgrade-Insecure-Requests\": \"1\",\n",
    "}\n",
    "\n",
    "# URL to scrape\n",
    "url = \"https://bookoutlet.com\"\n",
    "\n",
    "# Send a GET request using requests with custom headers\n",
    "response = requests.get(url, headers=headers)\n",
    "\n",
    "# Check if the request was successful\n",
    "if response.status_code == 200:\n",
    "    # Print the response content\n",
    "    print(\"Response from BookOutlet API:\")\n",
    "    print(response.headers.get('Content-Type'))\n",
    "    print(response.text[:200])\n",
    "else:\n",
    "    print(f\"Failed to retrieve data. Status code: {response.status_code}\")\n",
    "    print(\"Response content:\")\n",
    "    print(response.text)\n",
    "\n",
    "# Send a GET request using curl_cffi with impersonation\n",
    "response = curl_requests.get(url, headers=headers, impersonate=\"chrome120\")\n",
    "\n",
    "# Check if the request was successful\n",
    "if response.status_code == 200:\n",
    "    # Print the response content\n",
    "    print(\"Response from BookOutlet API:\")\n",
    "    print(response.headers.get('Content-Type'))\n",
    "    print(response.text[:200])\n",
    "else:\n",
    "    print(f\"Failed to retrieve data. Status code: {response.status_code}\")\n",
    "    print(\"Response content:\")\n",
    "    print(response.text)"
   ]
  },
  {
   "cell_type": "code",
   "execution_count": null,
   "metadata": {},
   "outputs": [
    {
     "name": "stdout",
     "output_type": "stream",
     "text": [
      "Just a moment...\n",
      "https://bookoutlet.com/\n",
      "zsh:1: no matches found: hrequests[all]\n",
      "Note: you may need to restart the kernel to use updated packages.\n"
     ]
    },
    {
     "data": {
      "text/html": [
       "<pre style=\"white-space:pre;overflow-x:auto;line-height:normal;font-family:Menlo,'DejaVu Sans Mono',consolas,'Courier New',monospace\"><span style=\"color: #ffff00; text-decoration-color: #ffff00\">WARNING: Please run </span><span style=\"color: #c0c0c0; text-decoration-color: #c0c0c0\">pip install hrequests</span><span style=\"color: #c0c0c0; text-decoration-color: #c0c0c0; font-weight: bold\">[</span><span style=\"color: #c0c0c0; text-decoration-color: #c0c0c0\">all</span><span style=\"color: #c0c0c0; text-decoration-color: #c0c0c0; font-weight: bold\">]</span><span style=\"color: #ffff00; text-decoration-color: #ffff00\"> for automated browsing support.</span>\n",
       "</pre>\n"
      ],
      "text/plain": [
       "\u001b[93mWARNING: Please run \u001b[0m\u001b[37mpip install hrequests\u001b[0m\u001b[1;37m[\u001b[0m\u001b[37mall\u001b[0m\u001b[1;37m]\u001b[0m\u001b[93m for automated browsing support.\u001b[0m\n"
      ]
     },
     "metadata": {},
     "output_type": "display_data"
    },
    {
     "name": "stdout",
     "output_type": "stream",
     "text": [
      "200\n",
      "https://bookoutlet.com\n",
      "<!DOCTYPE html><html lang=\"en\"><head><meta charSet=\"utf-8\"/><meta name=\"google-site-verification\" content=\"hwMYfD5FG7FRfi2tYTH3pjKyGldOafjhBgIYOZAgpr8\"/><meta name=\"viewport\" content=\"minimum-scale=1, initial-scale=1, width=device-width\"/><title>Browse Discounted Books Online - Book Outlet</title><meta name=\"description\" content=\"Save 50% off list prices on your next favourite read. Shop and enjoy Book Outlet&#x27;s wide range of kids, teens and adult books delivered straight to your doorstep.\"/\n"
     ]
    }
   ],
   "source": [
    "\"\"\" \n",
    "Objective: Bypass JavaScript Challenge\n",
    "\"\"\"\n",
    "# TODO: Send a request to https://bookoutlet.com\n",
    "# TODO: Use selenium to bypass the challenge\n",
    "# TODO: Use hrequests to bypass the challenge or others library\n",
    "# TODO: Compare those methods and share your thoughts\n",
    "# TODO: Explore hrequests by yourself!\n",
    "from selenium import webdriver\n",
    "import time\n",
    "\n",
    "options = webdriver.ChromeOptions()\n",
    "options.add_argument('--headless')  # Optional: remove to see the browser\n",
    "options.add_argument('--disable-blink-features=AutomationControlled')\n",
    "\n",
    "driver = webdriver.Chrome(options=options)\n",
    "\n",
    "driver.get(\"https://bookoutlet.com\")\n",
    "time.sleep(5)  # Let JS challenge run\n",
    "\n",
    "print(driver.title)\n",
    "print(driver.current_url)\n",
    "\n",
    "driver.quit()\n",
    "\n",
    "import nest_asyncio\n",
    "nest_asyncio.apply()\n",
    "\n",
    "import hrequests\n",
    "\n",
    "response = hrequests.get(\"https://bookoutlet.com\")\n",
    "print(response.status_code)\n",
    "print(response.url)\n",
    "print(response.text[:500])\n"
   ]
  },
  {
   "cell_type": "markdown",
   "metadata": {},
   "source": [
    "### **Reflection**\n",
    "What do you know about TLS fingerprints? Write on your own words.\n",
    "\n",
    "(answer here)"
   ]
  },
  {
   "cell_type": "markdown",
   "metadata": {},
   "source": [
    "### **Exploration**\n",
    "Explore another python library design for web scraping anti-bot like Botasaurus and Camoufox"
   ]
  },
  {
   "cell_type": "markdown",
   "metadata": {},
   "source": []
  }
 ],
 "metadata": {
  "kernelspec": {
   "display_name": "venv",
   "language": "python",
   "name": "python3"
  },
  "language_info": {
   "codemirror_mode": {
    "name": "ipython",
    "version": 3
   },
   "file_extension": ".py",
   "mimetype": "text/x-python",
   "name": "python",
   "nbconvert_exporter": "python",
   "pygments_lexer": "ipython3",
   "version": "3.12.3"
  }
 },
 "nbformat": 4,
 "nbformat_minor": 2
}
